{
 "cells": [
  {
   "cell_type": "markdown",
   "metadata": {},
   "source": [
    "# Introduction to Python \n",
    "# Homework #5\n",
    "- Due Tuesday Oct 10 at 6pm\n",
    "- This homework will be graded\n",
    "- You MUST submit on CourseWorks2 before it closes\n",
    "    - Verify your submission succeeded\n",
    "    - Email submissions are not accepted \n",
    "    "
   ]
  },
  {
   "cell_type": "code",
   "execution_count": null,
   "metadata": {
    "collapsed": true
   },
   "outputs": [],
   "source": []
  },
  {
   "cell_type": "markdown",
   "metadata": {},
   "source": [
    "# Academic Honesty\n",
    "* The computer science department has strict polices. Check\n",
    "the department [web page](http://www.cs.columbia.edu/education/honesty) for details. \n",
    "- Do not look at anybody else's source code. Do not show anybody\n",
    "your source, or leave your source where somebody could see it.\n",
    "You MUST write your own code.\n",
    "- For this class, feel free to discuss issues with other people, but suggest waiting an hour or two after a discussion, before writing your code.\n",
    "-  Cases of non original source will be refered to the Judical Committee.\n",
    "\n"
   ]
  },
  {
   "cell_type": "markdown",
   "metadata": {},
   "source": [
    "# Problem 1, 2 & 3 \n",
    "- Extract data directly from a zipfile without unpacking it\n",
    "- use zipfile module [doc](https://docs.python.org/3.5/library/zipfile.html#zipfile.ZipInfo). \n",
    "- in part, this problem is an exercise in reading Python documentation\n",
    "- only need to use three methods:\n",
    "    - zipfile.ZipFile(path)\n",
    "        - 'open' the zip file and read from it\n",
    "        - like 'open', should use 'with' to manage it\n",
    "    - zipfile.namelist()\n",
    "        - returns list of the files in zip archive\n",
    "    - zipfile.open()\n",
    "        - opens a file in the zip for reading\n",
    "        - use 'with'\n"
   ]
  },
  {
   "cell_type": "markdown",
   "metadata": {},
   "source": [
    "# write 'phelp' class\n",
    "- extract info from python's help documentation\n",
    "- download 'python-docs.zip' from CourseWorks\n",
    "- write four methods:\n",
    "    - ```__init__()``` method should read in all the help files and save\n",
    "them in the phelp object. remember to convert to unicode, and remove newline chars. think how to store the data to make it easy to write the\n",
    "methods below\n",
    "    - fileHits() method - print hits/file\n",
    "    - totalHits() method - checks all file lines for match, and print hit count\n",
    "    - grep() method - print file name, line number, and line of each match\n",
    "\n",
    "- note that like the linux 'grep' command, multiple appearances of the search string in a single line is considered ONE hit - we are counting the lines that have a hit(s). \n",
    "- decode using 'utf-8'"
   ]
  },
  {
   "cell_type": "code",
   "execution_count": 97,
   "metadata": {
    "collapsed": true
   },
   "outputs": [],
   "source": [
    "import os\n",
    "import zipfile\n",
    "\n",
    "def test1(zpath):\n",
    "    \n",
    "    with zipfile.ZipFile(zpath) as zf:\n",
    "        for fn in zf.namelist():\n",
    "            \n",
    "            if fn.endswith('.txt'):\n",
    "                print (fn)"
   ]
  },
  {
   "cell_type": "code",
   "execution_count": 98,
   "metadata": {
    "collapsed": true
   },
   "outputs": [],
   "source": [
    "def test2(zpath):\n",
    "    \n",
    "    with zipfile.ZipFile(zpath) as zf:\n",
    "        for fn in zf.namelist():\n",
    "                \n",
    "                if fn.endswith('gui.txt'):\n",
    "                    \n",
    "                    with zf.open(fn) as f:\n",
    "                        lines = []\n",
    "                        for l in f:\n",
    "                            \n",
    "                            lines.append(l.decode('utf-8').replace('\\n',''))\n",
    "                            \n",
    "                        print (lines)"
   ]
  },
  {
   "cell_type": "code",
   "execution_count": 99,
   "metadata": {
    "collapsed": true
   },
   "outputs": [],
   "source": [
    "import os\n",
    "import zipfile\n",
    "\n",
    "class phelp:\n",
    "  \n",
    "    cachedfiles = {}\n",
    "    \n",
    "    def __init__(self, zpath):\n",
    "        if not os.path.exists(zpath):\n",
    "            raise FileNotFoundError('file ' + zpath + ' does not exist')\n",
    "        if not zpath.endswith('.zip'):\n",
    "            raise ValueError('file ' + zpath + ' is not a zip file')\n",
    "\n",
    "        with zipfile.ZipFile(zpath) as zf:\n",
    "            for fn in zf.namelist():\n",
    "              \n",
    "                if fn.endswith('.txt'):\n",
    "                 \n",
    "                    with zf.open(fn) as f:\n",
    "                        lines = []\n",
    "                        for l in f:\n",
    "                           \n",
    "                            lines.append(l.decode('utf-8').replace('\\n',''))\n",
    "                       \n",
    "                        phelp.cachedfiles[fn] = lines\n",
    "    \n",
    "    def fileHits(self, hit):\n",
    "        for fn, lines in phelp.cachedfiles.items():\n",
    "            cnt = 0\n",
    "            for l in lines:\n",
    "                idx = l.find(hit)\n",
    "                if idx != -1: cnt += 1\n",
    "                    \n",
    "            if cnt != 0:\n",
    "                print ('{0} {1}'.format(cnt, fn))\n",
    "\n",
    "    def totalHits(self, hit):\n",
    "        cnt = 0\n",
    "        for fn, lines in phelp.cachedfiles.items():\n",
    "            for l in lines:\n",
    "                idx = l.find(hit)\n",
    "                if idx != -1: cnt += 1\n",
    "       \n",
    "            \n",
    "        return cnt\n",
    "    \n",
    "    \n",
    "    def grep(self, hit):\n",
    "        for fn, lines in phelp.cachedfiles.items():\n",
    "            ln = 0\n",
    "            for l in lines:\n",
    "                ln += 1\n",
    "                idx = l.find(hit)\n",
    "                if idx != -1: print ('{0}:{1}: {2}'.format(fn, ln, l))"
   ]
  },
  {
   "cell_type": "code",
   "execution_count": 101,
   "metadata": {},
   "outputs": [
    {
     "ename": "FileNotFoundError",
     "evalue": "file asdf does not exist",
     "output_type": "error",
     "traceback": [
      "\u001b[0;31m---------------------------------------------------------------------------\u001b[0m",
      "\u001b[0;31mFileNotFoundError\u001b[0m                         Traceback (most recent call last)",
      "\u001b[0;32m<ipython-input-101-b594e91504dd>\u001b[0m in \u001b[0;36m<module>\u001b[0;34m()\u001b[0m\n\u001b[1;32m      1\u001b[0m \u001b[0;31m# bad pathname\u001b[0m\u001b[0;34m\u001b[0m\u001b[0;34m\u001b[0m\u001b[0m\n\u001b[1;32m      2\u001b[0m \u001b[0;34m\u001b[0m\u001b[0m\n\u001b[0;32m----> 3\u001b[0;31m \u001b[0mphelp\u001b[0m\u001b[0;34m(\u001b[0m\u001b[0;34m'asdf'\u001b[0m\u001b[0;34m)\u001b[0m\u001b[0;34m\u001b[0m\u001b[0m\n\u001b[0m",
      "\u001b[0;32m<ipython-input-100-fa44a2406006>\u001b[0m in \u001b[0;36m__init__\u001b[0;34m(self, zpath)\u001b[0m\n\u001b[1;32m      6\u001b[0m     \u001b[0;32mdef\u001b[0m \u001b[0m__init__\u001b[0m\u001b[0;34m(\u001b[0m\u001b[0mself\u001b[0m\u001b[0;34m,\u001b[0m \u001b[0mzpath\u001b[0m\u001b[0;34m)\u001b[0m\u001b[0;34m:\u001b[0m\u001b[0;34m\u001b[0m\u001b[0m\n\u001b[1;32m      7\u001b[0m         \u001b[0;32mif\u001b[0m \u001b[0;32mnot\u001b[0m \u001b[0mos\u001b[0m\u001b[0;34m.\u001b[0m\u001b[0mpath\u001b[0m\u001b[0;34m.\u001b[0m\u001b[0mexists\u001b[0m\u001b[0;34m(\u001b[0m\u001b[0mzpath\u001b[0m\u001b[0;34m)\u001b[0m\u001b[0;34m:\u001b[0m\u001b[0;34m\u001b[0m\u001b[0m\n\u001b[0;32m----> 8\u001b[0;31m             \u001b[0;32mraise\u001b[0m \u001b[0mFileNotFoundError\u001b[0m\u001b[0;34m(\u001b[0m\u001b[0;34m'file '\u001b[0m \u001b[0;34m+\u001b[0m \u001b[0mzpath\u001b[0m \u001b[0;34m+\u001b[0m \u001b[0;34m' does not exist'\u001b[0m\u001b[0;34m)\u001b[0m\u001b[0;34m\u001b[0m\u001b[0m\n\u001b[0m\u001b[1;32m      9\u001b[0m         \u001b[0;32mif\u001b[0m \u001b[0;32mnot\u001b[0m \u001b[0mzpath\u001b[0m\u001b[0;34m.\u001b[0m\u001b[0mendswith\u001b[0m\u001b[0;34m(\u001b[0m\u001b[0;34m'.zip'\u001b[0m\u001b[0;34m)\u001b[0m\u001b[0;34m:\u001b[0m\u001b[0;34m\u001b[0m\u001b[0m\n\u001b[1;32m     10\u001b[0m             \u001b[0;32mraise\u001b[0m \u001b[0mValueError\u001b[0m\u001b[0;34m(\u001b[0m\u001b[0;34m'file '\u001b[0m \u001b[0;34m+\u001b[0m \u001b[0mzpath\u001b[0m \u001b[0;34m+\u001b[0m \u001b[0;34m' is not a zip file'\u001b[0m\u001b[0;34m)\u001b[0m\u001b[0;34m\u001b[0m\u001b[0m\n",
      "\u001b[0;31mFileNotFoundError\u001b[0m: file asdf does not exist"
     ]
    }
   ],
   "source": [
    "# bad pathname\n",
    "\n",
    "phelp('asdf')"
   ]
  },
  {
   "cell_type": "code",
   "execution_count": 100,
   "metadata": {
    "collapsed": true
   },
   "outputs": [],
   "source": [
    "# set to where ever you place the python docs zip file\n",
    "\n",
    "zfile = 'python-docs.zip'\n",
    "\n",
    "p = phelp(zfile)"
   ]
  },
  {
   "cell_type": "code",
   "execution_count": 101,
   "metadata": {},
   "outputs": [
    {
     "name": "stdout",
     "output_type": "stream",
     "text": [
      "1 python-3.6.3-docs-text/distutils/apiref.txt\n",
      "3 python-3.6.3-docs-text/using/cmdline.txt\n",
      "1 python-3.6.3-docs-text/whatsnew/3.2.txt\n",
      "1 python-3.6.3-docs-text/library/warnings.txt\n",
      "1 python-3.6.3-docs-text/reference/import.txt\n"
     ]
    }
   ],
   "source": [
    "p.fileHits('zipfiles')"
   ]
  },
  {
   "cell_type": "code",
   "execution_count": 102,
   "metadata": {},
   "outputs": [
    {
     "data": {
      "text/plain": [
       "[11, 42, 59, 1175, 103, 7]"
      ]
     },
     "execution_count": 102,
     "metadata": {},
     "output_type": "execute_result"
    }
   ],
   "source": [
    "[p.totalHits(w) for w in ['rpartition', 'linux','universal', 'mode', 'zipfile', 'zipfiles']]"
   ]
  },
  {
   "cell_type": "code",
   "execution_count": 103,
   "metadata": {},
   "outputs": [
    {
     "name": "stdout",
     "output_type": "stream",
     "text": [
      "python-3.6.3-docs-text/whatsnew/2.7.txt:917: * The \"split()\", \"replace()\", \"rindex()\", \"rpartition()\", and\n",
      "python-3.6.3-docs-text/whatsnew/2.5.txt:975:   \"rpartition(sep)\" methods that simplify a common use case.\n",
      "python-3.6.3-docs-text/whatsnew/2.5.txt:984:   \"rpartition(sep)\" also returns a 3-tuple but starts searching from\n",
      "python-3.6.3-docs-text/whatsnew/2.5.txt:995:      >>> 'www.python.org'.rpartition('.')\n",
      "python-3.6.3-docs-text/whatsnew/2.5.txt:997:      >>> 'www.python.org'.rpartition(':')\n",
      "python-3.6.3-docs-text/whatsnew/3.2.txt:2380:      extension = name.rpartition('.')[2]\n",
      "python-3.6.3-docs-text/whatsnew/3.2.txt:2420:   also used by \"rfind()\", \"rindex()\", \"rsplit()\" and \"rpartition()\".\n",
      "python-3.6.3-docs-text/library/importlib.txt:1434:            parent_name, _, child_name = absolute_name.rpartition('.')\n",
      "python-3.6.3-docs-text/library/stdtypes.txt:1522: str.rpartition(sep)\n",
      "python-3.6.3-docs-text/library/stdtypes.txt:2284: bytes.rpartition(sep)\n",
      "python-3.6.3-docs-text/library/stdtypes.txt:2285: bytearray.rpartition(sep)\n"
     ]
    }
   ],
   "source": [
    "p.grep('rpartition')"
   ]
  },
  {
   "cell_type": "code",
   "execution_count": 104,
   "metadata": {},
   "outputs": [
    {
     "name": "stdout",
     "output_type": "stream",
     "text": [
      "python-3.6.3-docs-text/distutils/apiref.txt:794: as tarballs or zipfiles.\n",
      "python-3.6.3-docs-text/using/cmdline.txt:83:    and zipfiles that are passed to the interpreter as the script\n",
      "python-3.6.3-docs-text/using/cmdline.txt:442:    may refer to zipfiles containing pure Python modules (in either\n",
      "python-3.6.3-docs-text/using/cmdline.txt:444:    zipfiles.\n",
      "python-3.6.3-docs-text/whatsnew/3.2.txt:1544: zipfiles, uncompressed tarfiles, gzipped tarfiles, and bzipped\n",
      "python-3.6.3-docs-text/library/warnings.txt:328:    used to support displaying source for modules found in zipfiles or\n",
      "python-3.6.3-docs-text/reference/import.txt:663: libraries) from zipfiles.\n"
     ]
    }
   ],
   "source": [
    "p.grep('zipfiles')"
   ]
  },
  {
   "cell_type": "markdown",
   "metadata": {},
   "source": [
    "# put your phelp class in a script\n",
    "- call your script 'phelp'. it should have three parts\n",
    "    - define the command args you want to receive\n",
    "    - call argparse - if it fails, it will terminate the script, otherwise, script execution will continue\n",
    "- if the path for the zip file is invalid, return an exit value of 1\n",
    "- not the most efficient command, as it re-reads the zip file each time it runs"
   ]
  },
  {
   "cell_type": "code",
   "execution_count": 26,
   "metadata": {},
   "outputs": [
    {
     "data": {
      "text/plain": [
       "_StoreAction(option_strings=['-z', '--zippath'], dest='zippath', nargs=None, const=None, default=None, type=None, choices=None, help='path of python zip file', metavar=None)"
      ]
     },
     "execution_count": 26,
     "metadata": {},
     "output_type": "execute_result"
    }
   ],
   "source": [
    "# to save you a little grief, here's how you want to define\n",
    "# your command line args to argparse\n",
    "import argparse \n",
    "parser = argparse.ArgumentParser(description=phelp)\n",
    "\n",
    "# required positional arg\n",
    "parser.add_argument(\"search\", type=str,\n",
    "                    help=\"search string\")\n",
    "\n",
    "\n",
    "# optional arg\n",
    "parser.add_argument(\"-t\", \"--totalhits\", help=\"show total number of hits in all files\",\n",
    "\t\t\t action='store_true')\n",
    "\n",
    "# optional arg\n",
    "parser.add_argument(\"-g\", \"--grep\", help=\"show matching hit lines\",\n",
    "\t\t\t action='store_true')\n",
    "\n",
    "# optional arg\n",
    "parser.add_argument(\"-f\", \"--filehits\", help=\"show number of hits in files\",\n",
    "\t\t\t action='store_true')\n",
    "\n",
    "# optional arg with required zippath value\n",
    "parser.add_argument(\"-z\", \"--zippath\", help=\"path of python zip file\",\n",
    "\t\t\t action='store')\n",
    "\n",
    "\n",
    "\n"
   ]
  },
  {
   "cell_type": "code",
   "execution_count": null,
   "metadata": {
    "collapsed": true
   },
   "outputs": [],
   "source": [
    "```\n",
    "# sample session\n",
    "\n",
    "\n",
    "week5@larrys-MBP$ python phelp\n",
    "usage: phelp [-h] [-t] [-g] [-f] [-z ZIPPATH] search\n",
    "phelp: error: the following arguments are required: search\n",
    "            \n",
    "week5@larrys-MBP$ python phelp -h\n",
    "usage: phelp [-h] [-t] [-g] [-f] [-z ZIPPATH] search\n",
    "\n",
    "positional arguments:\n",
    "  search                search string\n",
    "\n",
    "optional arguments:\n",
    "  -h, --help            show this help message and exit\n",
    "  -t, --totalhits       show total number of hits in all files\n",
    "  -g, --grep            show matching hit lines\n",
    "  -f, --filehits        show number of hits in files\n",
    "  -z ZIPPATH, --zippath ZIPPATH\n",
    "                        path of python zip file\n",
    "    \n",
    "week5@larrys-MBP$ python phelp -f zipfiles\n",
    "1 python-3.6.0-docs-text/library/warnings.txt\n",
    "3 python-3.6.0-docs-text/using/cmdline.txt\n",
    "1 python-3.6.0-docs-text/distutils/apiref.txt\n",
    "1 python-3.6.0-docs-text/whatsnew/3.2.txt\n",
    "1 python-3.6.0-docs-text/reference/import.txt\n",
    "\n",
    "week5@larrys-MBP$ python phelp -t zipfiles\n",
    "7\n",
    "\n",
    "week5@larrys-MBP$ python phelp -g zipfiles\n",
    "python-3.6.0-docs-text/whatsnew/3.2.txt:1545: zipfiles, uncompressed tarfiles, gzipped tarfiles, and bzipped\n",
    "python-3.6.0-docs-text/distutils/apiref.txt:794: as tarballs or zipfiles.\n",
    "python-3.6.0-docs-text/library/warnings.txt:328: used to support displaying source for modules found in zipfiles or\n",
    "python-3.6.0-docs-text/reference/import.txt:662: libraries) from zipfiles.\n",
    "python-3.6.0-docs-text/using/cmdline.txt:83: and zipfiles that are passed to the interpreter as the script\n",
    "python-3.6.0-docs-text/using/cmdline.txt:442: may refer to zipfiles containing pure Python modules (in either\n",
    "python-3.6.0-docs-text/using/cmdline.txt:444: zipfiles.\n",
    "                                                                                                    week5@larrys-MBP$ phelp -t zipfiles -z badzippath\n",
    "\n",
    "week5@larrys-MBP$ python phelp -t zipfiles -z badzippath\n",
    "file badzippath does not exist\n",
    "week5@larrys-MBP$ echo $?\n",
    "1\n",
    "                                                                                                    \n",
    "week5@larrys-MBP$ python phelp -t zipfiles -z python-docs.zip \n",
    "7\n",
    "week5@larrys-MBP$ echo $?\n",
    "0\n",
    "                                                                                                    \n",
    "                                                                                                    \n",
    "```"
   ]
  },
  {
   "cell_type": "markdown",
   "metadata": {},
   "source": [
    "# Problem 4\n",
    "## Plot Bessel Functions\n",
    "- plot 'j0' bessel function \n",
    "    - [doc](https://docs.scipy.org/doc/scipy/reference/generated/scipy.special.j0.html#scipy.special.j0)\n",
    "- use 'jn_zeros' to find the zeros(where function plot crosses x axis) of 'j0' \n",
    "    - [doc](https://docs.scipy.org/doc/scipy/reference/generated/scipy.special.jn_zeros.html#scipy.special.jn_zeros)\n",
    "    - first arg must be 0\n",
    "- start the plot at x = 0 on the left\n",
    "- go as far right as needed to display the requested number of zeros\n",
    "- for a smooth plot, evaluate j0 at .1 increments(x = .0, .1, .2,...)\n",
    "    - can use np.arange to generate the x values\n",
    "    - [doc](https://docs.scipy.org/doc/numpy/reference/generated/numpy.arange.html)\n",
    "- return the list of j0 zeros\n",
    "- use matplotlib\n",
    "    - your plot title, x & y labels, should be the same as mine\n"
   ]
  },
  {
   "cell_type": "code",
   "execution_count": 74,
   "metadata": {},
   "outputs": [
    {
     "data": {
      "text/plain": [
       "[0.76519768655796649, 0.22389077914123562]"
      ]
     },
     "execution_count": 74,
     "metadata": {},
     "output_type": "execute_result"
    }
   ],
   "source": [
    "import numpy as np\n",
    "import scipy.special\n",
    "import matplotlib.pyplot as plt\n",
    "import math\n",
    "\n",
    "# make plots render in the notebook\n",
    "%matplotlib inline\n",
    "\n",
    "# values of j0\n",
    "[scipy.special.j0(1), scipy.special.j0(2)]"
   ]
  },
  {
   "cell_type": "code",
   "execution_count": 75,
   "metadata": {},
   "outputs": [
    {
     "data": {
      "text/plain": [
       "array([ 1.        ,  0.76519769])"
      ]
     },
     "execution_count": 75,
     "metadata": {},
     "output_type": "execute_result"
    }
   ],
   "source": [
    "# note j0() takes lists...\n",
    "\n",
    "scipy.special.j0([0,1])"
   ]
  },
  {
   "cell_type": "code",
   "execution_count": 91,
   "metadata": {},
   "outputs": [
    {
     "data": {
      "text/plain": [
       "array([ 1.        ,  0.76519769])"
      ]
     },
     "execution_count": 91,
     "metadata": {},
     "output_type": "execute_result"
    }
   ],
   "source": [
    "# ...and arrays as args \n",
    "# returns an array of the evaluations\n",
    "\n",
    "scipy.special.j0(np.array([0,1]))"
   ]
  },
  {
   "cell_type": "code",
   "execution_count": 77,
   "metadata": {},
   "outputs": [
    {
     "data": {
      "text/plain": [
       "array([ 2.40482556,  5.52007811,  8.65372791])"
      ]
     },
     "execution_count": 77,
     "metadata": {},
     "output_type": "execute_result"
    }
   ],
   "source": [
    "# first arg to jn_zeros must be 0\n",
    "\n",
    "# first three zeros of j0\n",
    "\n",
    "scipy.special.jn_zeros(0, 3)\n"
   ]
  },
  {
   "cell_type": "code",
   "execution_count": 78,
   "metadata": {},
   "outputs": [
    {
     "data": {
      "text/plain": [
       "array([ -9.58688255e-17,  -1.64951298e-17,  -8.70443181e-17])"
      ]
     },
     "execution_count": 78,
     "metadata": {},
     "output_type": "execute_result"
    }
   ],
   "source": [
    "# check the zeros\n",
    "\n",
    "scipy.special.j0(scipy.special.jn_zeros(0, 3))"
   ]
  },
  {
   "cell_type": "code",
   "execution_count": 79,
   "metadata": {},
   "outputs": [
    {
     "data": {
      "image/png": "[encoded data removed]",
      "text/plain": [
       "<matplotlib.figure.Figure at 0x1d96bf96550>"
      ]
     },
     "metadata": {},
     "output_type": "display_data"
    }
   ],
   "source": [
    "# this will plot a numpy vector function\n",
    "\n",
    "def plotf(func, low, high):\n",
    "    # arg is a vector function to plot\n",
    "    # make a set of x vals\n",
    "    x = np.arange(low, high, .1)\n",
    "    # eval the func on the x vals\n",
    "    y = func(x)\n",
    "    plt.plot(x, y, 'r', linewidth=2)\n",
    "    plt.xlabel('x')\n",
    "    plt.ylabel('y')\n",
    "    plt.grid(True)\n",
    "    plt.title('Plot of sin')\n",
    "    \n",
    "plotf(np.sin, 0, 2*math.pi)"
   ]
  },
  {
   "cell_type": "code",
   "execution_count": 95,
   "metadata": {
    "collapsed": true
   },
   "outputs": [],
   "source": [
    "import numpy as np\n",
    "import scipy.special\n",
    "import matplotlib.pyplot as plt\n",
    "import math\n",
    "\n",
    "def bessel(n):\n",
    "    scipy.special.j0(np.array([0, 2*math.pi,0.1]))\n",
    "    scipy.special.jn_zeros(0,n)\n",
    "    np.arange(0, 2*math.pi,0.1, dtype=None)\n",
    "\n",
    "    \n",
    "bessel(2)"
   ]
  },
  {
   "cell_type": "code",
   "execution_count": 74,
   "metadata": {},
   "outputs": [
    {
     "data": {
      "text/plain": [
       "array([ 2.40482556,  5.52007811])"
      ]
     },
     "execution_count": 74,
     "metadata": {},
     "output_type": "execute_result"
    },
    {
     "data": {
      "image/png": "[encoded data removed]",
      "text/plain": [
       "<matplotlib.figure.Figure at 0x10703d358>"
      ]
     },
     "metadata": {},
     "output_type": "display_data"
    }
   ],
   "source": [
    "bessel(2)"
   ]
  },
  {
   "cell_type": "code",
   "execution_count": 61,
   "metadata": {},
   "outputs": [
    {
     "data": {
      "text/plain": [
       "array([  2.40482556,   5.52007811,   8.65372791,  11.79153444,  14.93091771])"
      ]
     },
     "execution_count": 61,
     "metadata": {},
     "output_type": "execute_result"
    },
    {
     "data": {
      "image/png": "[encoded data removed]",
      "text/plain": [
       "<matplotlib.figure.Figure at 0x10559b8d0>"
      ]
     },
     "metadata": {},
     "output_type": "display_data"
    }
   ],
   "source": [
    "bessel(5)"
   ]
  },
  {
   "cell_type": "code",
   "execution_count": 62,
   "metadata": {},
   "outputs": [
    {
     "data": {
      "text/plain": [
       "array([  2.40482556,   5.52007811,   8.65372791,  11.79153444,\n",
       "        14.93091771,  18.07106397,  21.21163663,  24.35247153,\n",
       "        27.49347913,  30.63460647])"
      ]
     },
     "execution_count": 62,
     "metadata": {},
     "output_type": "execute_result"
    },
    {
     "data": {
      "image/png": "[encoded data removed]",
      "text/plain": [
       "<matplotlib.figure.Figure at 0x1055c0780>"
      ]
     },
     "metadata": {},
     "output_type": "display_data"
    }
   ],
   "source": [
    "bessel(10)"
   ]
  },
  {
   "cell_type": "markdown",
   "metadata": {},
   "source": [
    "# Problem 5\n",
    "## intervals in files\n",
    "- implement a class 'Interval', that does 'interval arithmetic'\n",
    "- an interval consists of a min and max value. use instance variable names 'imin', 'imax' to avoid confusion with 'min' and 'max' functions\n",
    "- define five 'object methods'\n",
    "    - define ```__init__(self, imin, imax)``` - define instance variables\n",
    "    - define ```__str__(self)``` to print the object like this: ```Interval<self.imin, self.imax>```\n",
    "    - define ```__repr__(self)``` to call ```__str__```\n",
    "    - define ```__eq__(self, arg)``` - this is a predicate that returns True if \n",
    "self and the arg are both intervals, and they have the same imin and imax values. it is called by the '==' operator\n",
    "    - define ```__add__(self, iv)``` - let 'i' and 'i2' be intervals.  ```i + i2 represents a new interval, where the new imin and imax is the min and max of (x + x2), where i.imin <= x <= i.imax and i2.imin <= x2 <= i2.imax```. return the sum as a new Interval\n",
    "    - define dump(self, path) method. it will pickle dump the interval to the named file\n",
    "- define two 'class methods' (no self arg)\n",
    "    - load(path) - pickle loads the saved Interval object, and returns it. this is a good example of the need for a class method - there is no object to put this method on\n",
    "    - addPaths(path1, path2) - pickle load the saved Intervals in files path1 and path2, and return an Interval of their sum\n",
    "- don't worry about catching errors. "
   ]
  },
  {
   "cell_type": "code",
   "execution_count": 29,
   "metadata": {
    "collapsed": true
   },
   "outputs": [],
   "source": [
    "import pickle\n",
    "import tempfile\n",
    "\n",
    "# does not create the file, just makes a pathname\n",
    "tmp2, tmp3 = [tempfile.NamedTemporaryFile().name for j in range(2)]"
   ]
  },
  {
   "cell_type": "code",
   "execution_count": 96,
   "metadata": {},
   "outputs": [
    {
     "ename": "SyntaxError",
     "evalue": "invalid syntax (<ipython-input-96-48a02aa0dcb2>, line 5)",
     "output_type": "error",
     "traceback": [
      "\u001b[1;36m  File \u001b[1;32m\"<ipython-input-96-48a02aa0dcb2>\"\u001b[1;36m, line \u001b[1;32m5\u001b[0m\n\u001b[1;33m    def __str__(self)\u001b[0m\n\u001b[1;37m                     ^\u001b[0m\n\u001b[1;31mSyntaxError\u001b[0m\u001b[1;31m:\u001b[0m invalid syntax\n"
     ]
    }
   ],
   "source": [
    "class Interval:\n",
    "    def __init__(self, imin, imax):\n",
    "        imin= min() \n",
    "        imax= max()\n",
    "    def __str__(self)\n",
    "        print ('Interval<'self.imin, self.imax'>')\n",
    "    def __repr__(self)\n",
    "        print(__str__)\n",
    "    def __eq__(self, arg)\n",
    "        if imin==imax True:\n",
    "            return self            \n",
    "        \n",
    "    def __add__(self, iv)\n",
    "        new_interval_sum=i + i2\n",
    "        imin_new= min(x+x2)\n",
    "        imax_new=max(x+x2)\n",
    "        i.imin <= x <= i.imax \n",
    "        i2.imin <= x2 <= i2.imax\n",
    "        return new_interval_sum\n",
    "    def dump(self, path) method\n",
    "        with open(path, 'br') as f:\n",
    "            root2 = pickle.load(f)"
   ]
  },
  {
   "cell_type": "code",
   "execution_count": 98,
   "metadata": {},
   "outputs": [
    {
     "data": {
      "text/plain": [
       "(Interval<-1, 6>, Interval<5, 13>, Interval<10, 10>)"
      ]
     },
     "execution_count": 98,
     "metadata": {},
     "output_type": "execute_result"
    }
   ],
   "source": [
    "i = Interval(-1,6)\n",
    "i2 = Interval(5, 13)\n",
    "i3 = Interval(10,10)\n",
    "\n",
    "i, i2, i3"
   ]
  },
  {
   "cell_type": "code",
   "execution_count": 76,
   "metadata": {},
   "outputs": [
    {
     "data": {
      "text/plain": [
       "Interval<4, 19>"
      ]
     },
     "execution_count": 76,
     "metadata": {},
     "output_type": "execute_result"
    }
   ],
   "source": [
    "# turns into \n",
    "# i.__add__(i2)\n",
    "\n",
    "i + i2"
   ]
  },
  {
   "cell_type": "code",
   "execution_count": 77,
   "metadata": {},
   "outputs": [
    {
     "data": {
      "text/plain": [
       "Interval<15, 23>"
      ]
     },
     "execution_count": 77,
     "metadata": {},
     "output_type": "execute_result"
    }
   ],
   "source": [
    "i2 + i3"
   ]
  },
  {
   "cell_type": "code",
   "execution_count": 78,
   "metadata": {
    "collapsed": true
   },
   "outputs": [],
   "source": [
    "i2.dump(tmp2)\n",
    "i3.dump(tmp3)\n"
   ]
  },
  {
   "cell_type": "code",
   "execution_count": 79,
   "metadata": {},
   "outputs": [
    {
     "data": {
      "text/plain": [
       "Interval<5, 13>"
      ]
     },
     "execution_count": 79,
     "metadata": {},
     "output_type": "execute_result"
    }
   ],
   "source": [
    "newi2 = Interval.load(tmp2)\n",
    "newi2"
   ]
  },
  {
   "cell_type": "code",
   "execution_count": 80,
   "metadata": {},
   "outputs": [
    {
     "data": {
      "text/plain": [
       "Interval<15, 23>"
      ]
     },
     "execution_count": 80,
     "metadata": {},
     "output_type": "execute_result"
    }
   ],
   "source": [
    "Interval.addPaths(tmp2, tmp3)"
   ]
  },
  {
   "cell_type": "code",
   "execution_count": 81,
   "metadata": {},
   "outputs": [
    {
     "data": {
      "text/plain": [
       "False"
      ]
     },
     "execution_count": 81,
     "metadata": {},
     "output_type": "execute_result"
    }
   ],
   "source": [
    "i2 is newi2"
   ]
  },
  {
   "cell_type": "code",
   "execution_count": 82,
   "metadata": {},
   "outputs": [
    {
     "data": {
      "text/plain": [
       "True"
      ]
     },
     "execution_count": 82,
     "metadata": {},
     "output_type": "execute_result"
    }
   ],
   "source": [
    "# below translates into \n",
    "# i2.__eq__(newi2) \n",
    "# i2 and newi2 have the same imin, imax values, so == is True\n",
    "\n",
    "i2 == newi2"
   ]
  },
  {
   "cell_type": "code",
   "execution_count": 83,
   "metadata": {},
   "outputs": [
    {
     "data": {
      "text/plain": [
       "False"
      ]
     },
     "execution_count": 83,
     "metadata": {},
     "output_type": "execute_result"
    }
   ],
   "source": [
    "# different imin, imax values, so False\n",
    "\n",
    "i2 == i3"
   ]
  }
 ],
 "metadata": {
  "anaconda-cloud": {},
  "kernelspec": {
   "display_name": "Python 3",
   "language": "python",
   "name": "python3"
  },
  "language_info": {
   "codemirror_mode": {
    "name": "ipython",
    "version": 3
   },
   "file_extension": ".py",
   "mimetype": "text/x-python",
   "name": "python",
   "nbconvert_exporter": "python",
   "pygments_lexer": "ipython3",
   "version": "3.6.1"
  },
  "name": "_merged_merged"
 },
 "nbformat": 4,
 "nbformat_minor": 1
}
